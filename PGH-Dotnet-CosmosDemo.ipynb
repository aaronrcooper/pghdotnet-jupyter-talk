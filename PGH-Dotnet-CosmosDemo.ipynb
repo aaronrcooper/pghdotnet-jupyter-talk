{
 "cells": [
  {
   "cell_type": "code",
   "execution_count": 5,
   "metadata": {},
   "outputs": [
    {
     "data": {
      "text/html": [
       "Installing package Microsoft.Azure.Cosmos, version 3.6.0...........done!"
      ]
     },
     "metadata": {},
     "output_type": "display_data"
    },
    {
     "data": {
      "text/html": [
       "Successfully added reference to package Microsoft.Azure.Cosmos, version 3.6.0"
      ]
     },
     "metadata": {},
     "output_type": "display_data"
    },
    {
     "data": {
      "text/html": [
       "Installing package Newtonsoft.Json, version 12.0.3...........done!"
      ]
     },
     "metadata": {},
     "output_type": "display_data"
    },
    {
     "data": {
      "text/html": [
       "Successfully added reference to package Newtonsoft.Json, version 12.0.3"
      ]
     },
     "metadata": {},
     "output_type": "display_data"
    },
    {
     "data": {
      "text/html": [
       "Installing package Microsoft.Azure.Cosmos.Direct, version 3.4.2.0...........done!"
      ]
     },
     "metadata": {},
     "output_type": "display_data"
    },
    {
     "data": {
      "text/html": [
       "Successfully added reference to package Microsoft.Azure.Cosmos.Direct, version 3.4.2.0"
      ]
     },
     "metadata": {},
     "output_type": "display_data"
    },
    {
     "data": {
      "text/html": [
       "Installing package System.Configuration.ConfigurationManager, version 4.0.1.0............done!"
      ]
     },
     "metadata": {},
     "output_type": "display_data"
    },
    {
     "data": {
      "text/html": [
       "Successfully added reference to package System.Configuration.ConfigurationManager, version 4.0.1.0"
      ]
     },
     "metadata": {},
     "output_type": "display_data"
    },
    {
     "ename": "Unhandled Exception",
     "evalue": "The given key 'system.configuration.configurationmanager' was not present in the dictionary.",
     "output_type": "error",
     "traceback": [
      "Unhandled Exception",
      "The given key 'system.configuration.configurationmanager' was not present in the dictionary.",
      "   at System.Collections.Generic.Dictionary`2.get_Item(TKey key)",
      "   at WorkspaceServer.Packaging.PackageRestoreContext.GetDirectoryForPackage(String packageName)",
      "   at WorkspaceServer.Kernel.CSharpKernelExtensions.<>c__DisplayClass2_1.<<UseNugetDirective>b__2>d.MoveNext()",
      "--- End of stack trace from previous location where exception was thrown ---",
      "   at Microsoft.DotNet.Interactive.Commands.KernelCommandBase.InvokeAsync(KernelInvocationContext context)",
      "   at Microsoft.DotNet.Interactive.KernelBase.HandleInternalAsync(IKernelCommand command, KernelInvocationContext context)",
      "   at Microsoft.DotNet.Interactive.KernelCommandPipeline.<BuildPipeline>b__6_0(IKernelCommand command, KernelInvocationContext context, KernelPipelineContinuation _)",
      "   at Microsoft.DotNet.Interactive.KernelBase.<AddSetKernelMiddleware>b__8_0(IKernelCommand command, KernelInvocationContext context, KernelPipelineContinuation next)",
      "   at Microsoft.DotNet.Interactive.KernelCommandPipeline.SendAsync(IKernelCommand command, KernelInvocationContext context)"
     ]
    }
   ],
   "source": [
    "#r \"nuget:Microsoft.Azure.Cosmos, 3.6.0\"\n",
    "#r \"nuget:Newtonsoft.Json, 12.0.3\"\n",
    "#r \"nuget:Microsoft.Azure.Cosmos.Direct, 3.4.2.0\"\n",
    "#r \"nuget:System.Configuration.ConfigurationManager, 4.0.1.0\"\n",
    "    \n",
    "using System;\n",
    "using Microsoft.Azure.Cosmos;\n",
    "using Newtonsoft.Json;"
   ]
  },
  {
   "cell_type": "code",
   "execution_count": 2,
   "metadata": {},
   "outputs": [],
   "source": [
    "public class CosmosEntity\n",
    "{\n",
    "    public CosmosEntity(string body)\n",
    "    {\n",
    "        Id = Guid.NewGuid();\n",
    "        Body = body;\n",
    "    }\n",
    "\n",
    "    [JsonProperty(\"id\")]\n",
    "    public Guid Id { get; set; }\n",
    "    [JsonProperty(\"body\")]\n",
    "    public string Body { get; set; }\n",
    "}"
   ]
  },
  {
   "cell_type": "code",
   "execution_count": 3,
   "metadata": {},
   "outputs": [],
   "source": [
    "// The Azure Cosmos DB endpoint for running this sample.\n",
    "static readonly string EndpointUri = \"<your endpoint here>\";\n",
    "// The primary key for the Azure Cosmos account.\n",
    "static readonly string PrimaryKey = \"<your primary key>\";\n",
    "\n",
    "// The Cosmos client instance\n",
    "CosmosClient cosmosClient;\n",
    "\n",
    "// The database we will create\n",
    "Database database;\n",
    "\n",
    "// The container we will create.\n",
    "Container container;\n",
    "\n",
    "var endpointUri = \"https://dotnetpghdemo.documents.azure.com:443/\";\n",
    "var primaryKey = \"TYsa4unAAU768SKWq4sMlAbOgz2du2iEAKVEyngDHhuKAR2aUecPZ9w3Xv9yv7cowAkAetTsYQXT8sicrLpJrA==\";\n",
    "\n",
    "// The name of the database and container we will create\n",
    "string databaseId = \"PGHDotnet\";\n",
    "string containerId = \"Demo\";\n",
    "string containerPartitionKey = \"/id\";"
   ]
  },
  {
   "cell_type": "code",
   "execution_count": 4,
   "metadata": {},
   "outputs": [
    {
     "ename": "Unhandled Exception",
     "evalue": "Could not load file or assembly 'System.Configuration.ConfigurationManager, Version=4.0.1.0, Culture=neutral, PublicKeyToken=cc7b13ffcd2ddd51'. Reference assemblies should not be loaded for execution.  They can only be loaded in the Reflection-only loader context. (0x80131058)",
     "output_type": "error",
     "traceback": [
      "Unhandled Exception",
      "Could not load file or assembly 'System.Configuration.ConfigurationManager, Version=4.0.1.0, Culture=neutral, PublicKeyToken=cc7b13ffcd2ddd51'. Reference assemblies should not be loaded for execution.  They can only be loaded in the Reflection-only loader context. (0x80131058)",
      "   at Microsoft.Azure.Cosmos.DocumentClient.Initialize(Uri serviceEndpoint, ConnectionPolicy connectionPolicy, Nullable`1 desiredConsistencyLevel, HttpMessageHandler handler, ISessionContainer sessionContainer, Nullable`1 enableCpuMonitor, IStoreClientFactory storeClientFactory)",
      "   at Microsoft.Azure.Cosmos.DocumentClient..ctor(Uri serviceEndpoint, String authKeyOrResourceToken, EventHandler`1 sendingRequestEventArgs, ConnectionPolicy connectionPolicy, Nullable`1 desiredConsistencyLevel, JsonSerializerSettings serializerSettings, ApiType apitype, EventHandler`1 receivedResponseEventArgs, HttpMessageHandler handler, ISessionContainer sessionContainer, Nullable`1 enableCpuMonitor, Func`2 transportClientHandlerFactory, IStoreClientFactory storeClientFactory)",
      "   at Microsoft.Azure.Cosmos.CosmosClient..ctor(String accountEndpoint, String authKeyOrResourceToken, CosmosClientOptions clientOptions)",
      "   at Submission#5.<<Initialize>>d__0.MoveNext()",
      "--- End of stack trace from previous location where exception was thrown ---",
      "   at Microsoft.CodeAnalysis.Scripting.ScriptExecutionState.RunSubmissionsAsync[TResult](ImmutableArray`1 precedingExecutors, Func`2 currentExecutor, StrongBox`1 exceptionHolderOpt, Func`2 catchExceptionOpt, CancellationToken cancellationToken)"
     ]
    }
   ],
   "source": [
    "cosmosClient = new CosmosClient(endpointUri, primaryKey);\n",
    "\n",
    "database = await cosmosClient.CreateDatabaseIfNotExistsAsync(databaseId);\n",
    "container = await database.CreateContainerIfNotExistsAsync(containerId, containerPartitionKey );\n",
    "\n",
    "var entity = new CosmosEntity(\"This is a Cosmos Entity\");\n",
    "\n",
    "await container.CreateItemAsync(entity);\n",
    "display(entity);"
   ]
  },
  {
   "cell_type": "code",
   "execution_count": null,
   "metadata": {},
   "outputs": [],
   "source": []
  }
 ],
 "metadata": {
  "kernelspec": {
   "display_name": ".NET (C#)",
   "language": "C#",
   "name": ".net-csharp"
  },
  "language_info": {
   "file_extension": ".cs",
   "mimetype": "text/x-csharp",
   "name": "C#",
   "pygments_lexer": "csharp",
   "version": "8.0"
  }
 },
 "nbformat": 4,
 "nbformat_minor": 4
}
