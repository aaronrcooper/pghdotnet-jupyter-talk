{
 "cells": [
  {
   "cell_type": "code",
   "execution_count": null,
   "metadata": {},
   "outputs": [],
   "source": [
    "// Package references and using statements\n",
    "#r \"nuget:Microsoft.Azure.EventHubs, 4.1.0\"\n",
    "#r \"nuget:Newtonsoft.Json, 12.0.3\"\n",
    "#r \"nuget:Bogus, 28.4.4\"\n",
    "\n",
    "using System;\n",
    "using System.Threading;\n",
    "using Microsoft.Azure.EventHubs;\n",
    "using System.Dynamic;\n",
    "using System.Text;\n",
    "using Newtonsoft.Json;\n",
    "using Bogus;\n",
    "using System.Collections.Generic;\n",
    "using System.Linq;"
   ]
  },
  {
   "cell_type": "code",
   "execution_count": null,
   "metadata": {},
   "outputs": [],
   "source": [
    "// Set up bogus classes\n",
    "\n",
    "public class Address\n",
    "{\n",
    "    [JsonProperty(\"id\")]\n",
    "    public string Id { get; set; }\n",
    "    [JsonProperty(\"customerId\")]\n",
    "    public string CustomerId { get; set; }\n",
    "    [JsonProperty(\"streetAddress1\")]\n",
    "    public string StreetAddress1 { get; set; }\n",
    "    [JsonProperty(\"streetAddress2\")]\n",
    "    public string StreetAddress2 { get; set; }\n",
    "    [JsonProperty(\"city\")]\n",
    "    public string City { get; set; }\n",
    "    [JsonProperty(\"state\")]\n",
    "    public string State { get; set; }\n",
    "    [JsonProperty(\"zipcode\")]\n",
    "    public string Zipcode { get; set; }\n",
    "}\n",
    "\n",
    "public class Customer\n",
    "{\n",
    "    [JsonProperty(\"id\")]\n",
    "    public string Id { get; set; }\n",
    "    [JsonProperty(\"firstName\")]\n",
    "    public string FirstName { get; set; }\n",
    "    [JsonProperty(\"lastName\")]\n",
    "    public string LastName { get; set; }\n",
    "    [JsonProperty(\"email\")]\n",
    "    public string Email { get; set; }\n",
    "    [JsonProperty(\"phoneNumber\")]\n",
    "    public string PhoneNumber { get; set; }\n",
    "    [JsonProperty(\"addresses\")]\n",
    "    public IEnumerable<Address> Addresses { get; set; }\n",
    "}\n"
   ]
  },
  {
   "cell_type": "code",
   "execution_count": null,
   "metadata": {},
   "outputs": [],
   "source": [
    "// Bogus test Data instantiation\n",
    "\n",
    "Randomizer.Seed = new Random(8675309);\n",
    "\n",
    "var testAddress = new Faker<Address>()\n",
    "    .RuleFor(address => address.Id, (fake, address) => fake.Random.Guid().ToString())\n",
    "    .RuleFor(address => address.CustomerId, (fake, address) => fake.Random.Guid().ToString())\n",
    "    .RuleFor(address => address.StreetAddress1, (fake, address) => fake.Address.StreetAddress(true))\n",
    "    .RuleFor(address => address.StreetAddress2, (fake, address) => fake.Address.StreetAddress(true))\n",
    "    .RuleFor(address => address.City, (fake, address) => fake.Address.City())\n",
    "    .RuleFor(address => address.State, (fake, address) => fake.Address.State())\n",
    "    .RuleFor(address => address.Zipcode, (fake, address) => fake.Address.ZipCode(address.Zipcode));\n",
    "\n",
    "\n",
    "var testCustomer = new Faker<Customer>()\n",
    "    .RuleFor(cust => cust.Id, (fake, cust) => fake.Random.Guid().ToString())\n",
    "    .RuleFor(cust => cust.FirstName, (fake, cust) => fake.Name.FirstName())\n",
    "    .RuleFor(cust => cust.LastName, (fake, cust) => fake.Name.LastName())\n",
    "    .RuleFor(cust => cust.Email, (fake, cust) => fake.Internet.ExampleEmail(cust.Email))\n",
    "    .RuleFor(cust => cust.PhoneNumber, (fake, cust) => fake.Phone.PhoneNumber(cust.PhoneNumber))\n",
    "    .RuleFor(cust => cust.Addresses, (fake, cust) => testAddress.Generate(3).Select(addr => \n",
    "    {\n",
    "        // Replace fake customer ID with ID of the current Bogus customer\n",
    "        addr.CustomerId = cust.Id;\n",
    "        return addr;\n",
    "    }));"
   ]
  },
  {
   "cell_type": "code",
   "execution_count": null,
   "metadata": {},
   "outputs": [],
   "source": [
    "// Set up EventHubs client\n",
    "\n",
    "EventHubClient eventHubClient;\n",
    "var eventHubConnectionString = \"Endpoint=sb://testsuffix-ns.servicebus.windows.net/;SharedAccessKeyName=RootManageSharedAccessKey;SharedAccessKey=2ZEATu8J4i5KZk1amnvaNemflRg8TNhJJYqk+qXpCdQ=\";\n",
    "var eventHubName = \"test\";\n",
    "\n",
    "var connectionStringBuilder = new EventHubsConnectionStringBuilder(eventHubConnectionString) \n",
    "{\n",
    "    EntityPath = eventHubName\n",
    "};\n",
    "\n",
    "eventHubClient = EventHubClient.CreateFromConnectionString(connectionStringBuilder.ToString());"
   ]
  },
  {
   "cell_type": "code",
   "execution_count": null,
   "metadata": {},
   "outputs": [],
   "source": [
    "public async Task SendMessageToEventHub(string jsonMessage)\n",
    "{\n",
    "    var encodedMessage = Encoding.UTF8.GetBytes(jsonMessage);\n",
    "    var eventData = new EventData(encodedMessage);\n",
    "    await eventHubClient.SendAsync(eventData);\n",
    "}\n",
    "\n",
    "public void FlushDataList(IList dataList)\n",
    "{\n",
    "    dataList.Clear();\n",
    "    display(\"Data list flushed\");\n",
    "}"
   ]
  },
  {
   "cell_type": "code",
   "execution_count": null,
   "metadata": {},
   "outputs": [],
   "source": [
    "List<Customer> dataList = new List<Customer>();\n",
    "\n",
    "var customerEntity = testCustomer.Generate();\n",
    "dataList.Add(customerEntity);\n",
    "\n",
    "foreach(var entity in dataList)\n",
    "{\n",
    "    var jsonMessage = JsonConvert.SerializeObject(customerEntity);\n",
    "    await SendMessageToEventHub(jsonMessage);\n",
    "}\n",
    "\n",
    "display(dataList);"
   ]
  },
  {
   "cell_type": "code",
   "execution_count": null,
   "metadata": {},
   "outputs": [],
   "source": [
    "FlushDataList(dataList);"
   ]
  },
  {
   "cell_type": "code",
   "execution_count": null,
   "metadata": {},
   "outputs": [],
   "source": []
  }
 ],
 "metadata": {
  "kernelspec": {
   "display_name": ".NET (C#)",
   "language": "C#",
   "name": ".net-csharp"
  },
  "language_info": {
   "file_extension": ".cs",
   "mimetype": "text/x-csharp",
   "name": "C#",
   "pygments_lexer": "csharp",
   "version": "8.0"
  }
 },
 "nbformat": 4,
 "nbformat_minor": 4
}
