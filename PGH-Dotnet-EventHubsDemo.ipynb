{
 "cells": [
  {
   "cell_type": "code",
   "execution_count": 1,
   "metadata": {},
   "outputs": [
    {
     "data": {
      "text/html": [
       "Installing package Microsoft.Azure.EventHubs, version 4.1.0.............................done!"
      ]
     },
     "metadata": {},
     "output_type": "display_data"
    },
    {
     "data": {
      "text/html": [
       "Successfully added reference to package Microsoft.Azure.EventHubs, version 4.1.0"
      ]
     },
     "metadata": {},
     "output_type": "display_data"
    },
    {
     "data": {
      "text/html": [
       "Installing package Newtonsoft.Json, version 12.0.3.............done!"
      ]
     },
     "metadata": {},
     "output_type": "display_data"
    },
    {
     "data": {
      "text/html": [
       "Successfully added reference to package Newtonsoft.Json, version 12.0.3"
      ]
     },
     "metadata": {},
     "output_type": "display_data"
    },
    {
     "data": {
      "text/html": [
       "Installing package Microsoft.Azure.EventHubs.Processor, version 4.1.0............done!"
      ]
     },
     "metadata": {},
     "output_type": "display_data"
    },
    {
     "data": {
      "text/html": [
       "Successfully added reference to package Microsoft.Azure.EventHubs.Processor, version 4.1.0"
      ]
     },
     "metadata": {},
     "output_type": "display_data"
    }
   ],
   "source": [
    "// Package references and using statements\n",
    "#r \"nuget:Microsoft.Azure.EventHubs, 4.1.0\"\n",
    "#r \"nuget:Newtonsoft.Json, 12.0.3\"\n",
    "#r \"nuget:Microsoft.Azure.EventHubs.Processor, 4.1.0\"\n",
    "using System;\n",
    "using System.Threading;\n",
    "using Microsoft.Azure.EventHubs;\n",
    "using System.Dynamic;\n",
    "using System.Text;\n",
    "using Newtonsoft.Json;"
   ]
  },
  {
   "cell_type": "code",
   "execution_count": 4,
   "metadata": {},
   "outputs": [],
   "source": [
    "// Set up EventHubs client\n",
    "\n",
    "EventHubClient eventHubClient;\n",
    "var eventHubConnectionString = \"Endpoint=sb://testsuffix-ns.servicebus.windows.net/;SharedAccessKeyName=RootManageSharedAccessKey;SharedAccessKey=2ZEATu8J4i5KZk1amnvaNemflRg8TNhJJYqk+qXpCdQ=\";\n",
    "var eventHubName = \"test\";\n",
    "var connectionStringBuilder = new EventHubsConnectionStringBuilder(eventHubConnectionString) \n",
    "{\n",
    "    EntityPath = eventHubName\n",
    "};\n",
    "\n",
    "eventHubClient = EventHubClient.CreateFromConnectionString(connectionStringBuilder.ToString());"
   ]
  },
  {
   "cell_type": "code",
   "execution_count": 3,
   "metadata": {},
   "outputs": [
    {
     "data": {
      "text/html": [
       "<table><thead><tr><th><i>index</i></th><th>CustomerId</th><th>PurchaseAmount</th><th>PurchaseTime</th><th>TenderType</th></tr></thead><tbody><tr><td>0</td><td>0</td><td>7258</td><td>2020-02-10 19:41:54Z</td><td>CREDIT</td></tr><tr><td>1</td><td>0</td><td>7290</td><td>2020-02-10 19:41:58Z</td><td>CREDIT</td></tr><tr><td>2</td><td>0</td><td>2470</td><td>2020-02-10 19:41:58Z</td><td>CREDIT</td></tr><tr><td>3</td><td>0</td><td>3386</td><td>2020-02-10 19:41:58Z</td><td>CREDIT</td></tr><tr><td>4</td><td>0</td><td>4451</td><td>2020-02-10 19:41:58Z</td><td>CASH</td></tr><tr><td>5</td><td>0</td><td>3958</td><td>2020-02-10 19:41:58Z</td><td>CREDIT</td></tr><tr><td>6</td><td>0</td><td>3937</td><td>2020-02-10 19:41:58Z</td><td>CASH</td></tr><tr><td>7</td><td>0</td><td>5793</td><td>2020-02-10 19:41:58Z</td><td>CASH</td></tr><tr><td>8</td><td>0</td><td>7239</td><td>2020-02-10 19:41:58Z</td><td>CASH</td></tr><tr><td>9</td><td>0</td><td>3221</td><td>2020-02-10 19:41:58Z</td><td>CASH</td></tr><tr><td>10</td><td>1</td><td>7858</td><td>2020-02-10 19:41:58Z</td><td>CREDIT</td></tr><tr><td>11</td><td>1</td><td>605</td><td>2020-02-10 19:41:58Z</td><td>CASH</td></tr><tr><td>12</td><td>1</td><td>5426</td><td>2020-02-10 19:41:58Z</td><td>CREDIT</td></tr><tr><td>13</td><td>1</td><td>5070</td><td>2020-02-10 19:41:58Z</td><td>CREDIT</td></tr><tr><td>14</td><td>1</td><td>1996</td><td>2020-02-10 19:41:59Z</td><td>CREDIT</td></tr><tr><td>15</td><td>1</td><td>2502</td><td>2020-02-10 19:41:59Z</td><td>CREDIT</td></tr><tr><td>16</td><td>1</td><td>3207</td><td>2020-02-10 19:41:59Z</td><td>CASH</td></tr><tr><td>17</td><td>1</td><td>1509</td><td>2020-02-10 19:41:59Z</td><td>CASH</td></tr><tr><td>18</td><td>1</td><td>8406</td><td>2020-02-10 19:41:59Z</td><td>CREDIT</td></tr><tr><td>19</td><td>1</td><td>9180</td><td>2020-02-10 19:41:59Z</td><td>CREDIT</td></tr><tr><td>20</td><td>2</td><td>3401</td><td>2020-02-10 19:41:59Z</td><td>CASH</td></tr><tr><td>21</td><td>2</td><td>2925</td><td>2020-02-10 19:41:59Z</td><td>CASH</td></tr><tr><td>22</td><td>2</td><td>4916</td><td>2020-02-10 19:41:59Z</td><td>CREDIT</td></tr><tr><td>23</td><td>2</td><td>5056</td><td>2020-02-10 19:41:59Z</td><td>CREDIT</td></tr><tr><td>24</td><td>2</td><td>3103</td><td>2020-02-10 19:41:59Z</td><td>CASH</td></tr><tr><td>25</td><td>2</td><td>8730</td><td>2020-02-10 19:41:59Z</td><td>CREDIT</td></tr><tr><td>26</td><td>2</td><td>1738</td><td>2020-02-10 19:41:59Z</td><td>CREDIT</td></tr><tr><td>27</td><td>2</td><td>7633</td><td>2020-02-10 19:41:59Z</td><td>CASH</td></tr><tr><td>28</td><td>2</td><td>4814</td><td>2020-02-10 19:41:59Z</td><td>CREDIT</td></tr><tr><td>29</td><td>2</td><td>3803</td><td>2020-02-10 19:41:59Z</td><td>CASH</td></tr><tr><td>30</td><td>3</td><td>4531</td><td>2020-02-10 19:41:59Z</td><td>CASH</td></tr><tr><td>31</td><td>3</td><td>6545</td><td>2020-02-10 19:41:59Z</td><td>CASH</td></tr><tr><td>32</td><td>3</td><td>4069</td><td>2020-02-10 19:41:59Z</td><td>CASH</td></tr><tr><td>33</td><td>3</td><td>6227</td><td>2020-02-10 19:41:59Z</td><td>CASH</td></tr><tr><td>34</td><td>3</td><td>447</td><td>2020-02-10 19:41:59Z</td><td>CASH</td></tr><tr><td>35</td><td>3</td><td>2983</td><td>2020-02-10 19:41:59Z</td><td>CASH</td></tr><tr><td>36</td><td>3</td><td>6114</td><td>2020-02-10 19:41:59Z</td><td>CREDIT</td></tr><tr><td>37</td><td>3</td><td>9367</td><td>2020-02-10 19:41:59Z</td><td>CASH</td></tr><tr><td>38</td><td>3</td><td>7220</td><td>2020-02-10 19:41:59Z</td><td>CREDIT</td></tr><tr><td>39</td><td>3</td><td>9101</td><td>2020-02-10 19:41:59Z</td><td>CASH</td></tr><tr><td>40</td><td>4</td><td>4619</td><td>2020-02-10 19:42:00Z</td><td>CASH</td></tr><tr><td>41</td><td>4</td><td>9439</td><td>2020-02-10 19:42:00Z</td><td>CASH</td></tr><tr><td>42</td><td>4</td><td>738</td><td>2020-02-10 19:42:00Z</td><td>CREDIT</td></tr><tr><td>43</td><td>4</td><td>5557</td><td>2020-02-10 19:42:00Z</td><td>CASH</td></tr><tr><td>44</td><td>4</td><td>6706</td><td>2020-02-10 19:42:00Z</td><td>CREDIT</td></tr><tr><td>45</td><td>4</td><td>3024</td><td>2020-02-10 19:42:00Z</td><td>CREDIT</td></tr><tr><td>46</td><td>4</td><td>2442</td><td>2020-02-10 19:42:00Z</td><td>CREDIT</td></tr><tr><td>47</td><td>4</td><td>4219</td><td>2020-02-10 19:42:00Z</td><td>CASH</td></tr><tr><td>48</td><td>4</td><td>9811</td><td>2020-02-10 19:42:00Z</td><td>CASH</td></tr><tr><td>49</td><td>4</td><td>5064</td><td>2020-02-10 19:42:00Z</td><td>CREDIT</td></tr><tr><td>50</td><td>5</td><td>5073</td><td>2020-02-10 19:42:00Z</td><td>CASH</td></tr><tr><td>51</td><td>5</td><td>4459</td><td>2020-02-10 19:42:00Z</td><td>CASH</td></tr><tr><td>52</td><td>5</td><td>6356</td><td>2020-02-10 19:42:00Z</td><td>CREDIT</td></tr><tr><td>53</td><td>5</td><td>4317</td><td>2020-02-10 19:42:00Z</td><td>CASH</td></tr><tr><td>54</td><td>5</td><td>2630</td><td>2020-02-10 19:42:00Z</td><td>CREDIT</td></tr><tr><td>55</td><td>5</td><td>4333</td><td>2020-02-10 19:42:00Z</td><td>CASH</td></tr><tr><td>56</td><td>5</td><td>2374</td><td>2020-02-10 19:42:00Z</td><td>CREDIT</td></tr><tr><td>57</td><td>5</td><td>7414</td><td>2020-02-10 19:42:00Z</td><td>CREDIT</td></tr><tr><td>58</td><td>5</td><td>284</td><td>2020-02-10 19:42:00Z</td><td>CREDIT</td></tr><tr><td>59</td><td>5</td><td>5721</td><td>2020-02-10 19:42:00Z</td><td>CASH</td></tr><tr><td>60</td><td>6</td><td>2221</td><td>2020-02-10 19:42:00Z</td><td>CASH</td></tr><tr><td>61</td><td>6</td><td>6303</td><td>2020-02-10 19:42:00Z</td><td>CASH</td></tr><tr><td>62</td><td>6</td><td>980</td><td>2020-02-10 19:42:00Z</td><td>CREDIT</td></tr><tr><td>63</td><td>6</td><td>3436</td><td>2020-02-10 19:42:00Z</td><td>CREDIT</td></tr><tr><td>64</td><td>6</td><td>8689</td><td>2020-02-10 19:42:00Z</td><td>CASH</td></tr><tr><td>65</td><td>6</td><td>1314</td><td>2020-02-10 19:42:01Z</td><td>CREDIT</td></tr><tr><td>66</td><td>6</td><td>6536</td><td>2020-02-10 19:42:01Z</td><td>CREDIT</td></tr><tr><td>67</td><td>6</td><td>9198</td><td>2020-02-10 19:42:01Z</td><td>CREDIT</td></tr><tr><td>68</td><td>6</td><td>4623</td><td>2020-02-10 19:42:01Z</td><td>CASH</td></tr><tr><td>69</td><td>6</td><td>9013</td><td>2020-02-10 19:42:01Z</td><td>CASH</td></tr><tr><td>70</td><td>7</td><td>6387</td><td>2020-02-10 19:42:01Z</td><td>CASH</td></tr><tr><td>71</td><td>7</td><td>3839</td><td>2020-02-10 19:42:01Z</td><td>CASH</td></tr><tr><td>72</td><td>7</td><td>4289</td><td>2020-02-10 19:42:01Z</td><td>CASH</td></tr><tr><td>73</td><td>7</td><td>9304</td><td>2020-02-10 19:42:01Z</td><td>CREDIT</td></tr><tr><td>74</td><td>7</td><td>4561</td><td>2020-02-10 19:42:01Z</td><td>CASH</td></tr><tr><td>75</td><td>7</td><td>3962</td><td>2020-02-10 19:42:01Z</td><td>CREDIT</td></tr><tr><td>76</td><td>7</td><td>2187</td><td>2020-02-10 19:42:01Z</td><td>CASH</td></tr><tr><td>77</td><td>7</td><td>9359</td><td>2020-02-10 19:42:01Z</td><td>CASH</td></tr><tr><td>78</td><td>7</td><td>8349</td><td>2020-02-10 19:42:01Z</td><td>CASH</td></tr><tr><td>79</td><td>7</td><td>79</td><td>2020-02-10 19:42:01Z</td><td>CASH</td></tr><tr><td>80</td><td>8</td><td>6288</td><td>2020-02-10 19:42:01Z</td><td>CREDIT</td></tr><tr><td>81</td><td>8</td><td>7518</td><td>2020-02-10 19:42:01Z</td><td>CREDIT</td></tr><tr><td>82</td><td>8</td><td>7822</td><td>2020-02-10 19:42:01Z</td><td>CREDIT</td></tr><tr><td>83</td><td>8</td><td>9749</td><td>2020-02-10 19:42:01Z</td><td>CASH</td></tr><tr><td>84</td><td>8</td><td>8730</td><td>2020-02-10 19:42:01Z</td><td>CREDIT</td></tr><tr><td>85</td><td>8</td><td>73</td><td>2020-02-10 19:42:01Z</td><td>CASH</td></tr><tr><td>86</td><td>8</td><td>190</td><td>2020-02-10 19:42:01Z</td><td>CREDIT</td></tr><tr><td>87</td><td>8</td><td>9751</td><td>2020-02-10 19:42:01Z</td><td>CASH</td></tr><tr><td>88</td><td>8</td><td>3598</td><td>2020-02-10 19:42:01Z</td><td>CREDIT</td></tr><tr><td>89</td><td>8</td><td>6114</td><td>2020-02-10 19:42:01Z</td><td>CREDIT</td></tr><tr><td>90</td><td>9</td><td>609</td><td>2020-02-10 19:42:01Z</td><td>CASH</td></tr><tr><td>91</td><td>9</td><td>8700</td><td>2020-02-10 19:42:01Z</td><td>CREDIT</td></tr><tr><td>92</td><td>9</td><td>9083</td><td>2020-02-10 19:42:01Z</td><td>CASH</td></tr><tr><td>93</td><td>9</td><td>1499</td><td>2020-02-10 19:42:01Z</td><td>CASH</td></tr><tr><td>94</td><td>9</td><td>6881</td><td>2020-02-10 19:42:02Z</td><td>CASH</td></tr><tr><td>95</td><td>9</td><td>8315</td><td>2020-02-10 19:42:02Z</td><td>CASH</td></tr><tr><td>96</td><td>9</td><td>8460</td><td>2020-02-10 19:42:02Z</td><td>CREDIT</td></tr><tr><td>97</td><td>9</td><td>7302</td><td>2020-02-10 19:42:02Z</td><td>CREDIT</td></tr><tr><td>98</td><td>9</td><td>6868</td><td>2020-02-10 19:42:02Z</td><td>CREDIT</td></tr><tr><td>99</td><td>9</td><td>5393</td><td>2020-02-10 19:42:02Z</td><td>CASH</td></tr><tr><td>100</td><td>10</td><td>6488</td><td>2020-02-10 19:42:02Z</td><td>CREDIT</td></tr><tr><td>101</td><td>10</td><td>3243</td><td>2020-02-10 19:42:02Z</td><td>CASH</td></tr><tr><td>102</td><td>10</td><td>9595</td><td>2020-02-10 19:42:02Z</td><td>CASH</td></tr><tr><td>103</td><td>10</td><td>799</td><td>2020-02-10 19:42:02Z</td><td>CASH</td></tr><tr><td>104</td><td>10</td><td>8677</td><td>2020-02-10 19:42:02Z</td><td>CASH</td></tr><tr><td>105</td><td>10</td><td>1234</td><td>2020-02-10 19:42:02Z</td><td>CREDIT</td></tr><tr><td>106</td><td>10</td><td>170</td><td>2020-02-10 19:42:02Z</td><td>CREDIT</td></tr><tr><td>107</td><td>10</td><td>7051</td><td>2020-02-10 19:42:02Z</td><td>CASH</td></tr><tr><td>108</td><td>10</td><td>9755</td><td>2020-02-10 19:42:02Z</td><td>CASH</td></tr><tr><td>109</td><td>10</td><td>8667</td><td>2020-02-10 19:42:02Z</td><td>CASH</td></tr><tr><td>110</td><td>11</td><td>2146</td><td>2020-02-10 19:42:02Z</td><td>CREDIT</td></tr><tr><td>111</td><td>11</td><td>3015</td><td>2020-02-10 19:42:02Z</td><td>CASH</td></tr><tr><td>112</td><td>11</td><td>9065</td><td>2020-02-10 19:42:02Z</td><td>CASH</td></tr><tr><td>113</td><td>11</td><td>205</td><td>2020-02-10 19:42:02Z</td><td>CASH</td></tr><tr><td>114</td><td>11</td><td>9433</td><td>2020-02-10 19:42:02Z</td><td>CASH</td></tr><tr><td>115</td><td>11</td><td>4702</td><td>2020-02-10 19:42:02Z</td><td>CREDIT</td></tr><tr><td>116</td><td>11</td><td>8481</td><td>2020-02-10 19:42:02Z</td><td>CASH</td></tr><tr><td>117</td><td>11</td><td>1230</td><td>2020-02-10 19:42:02Z</td><td>CREDIT</td></tr><tr><td>118</td><td>11</td><td>4705</td><td>2020-02-10 19:42:02Z</td><td>CASH</td></tr><tr><td>119</td><td>11</td><td>8616</td><td>2020-02-10 19:42:02Z</td><td>CREDIT</td></tr><tr><td>120</td><td>12</td><td>1124</td><td>2020-02-10 19:42:02Z</td><td>CREDIT</td></tr><tr><td>121</td><td>12</td><td>6784</td><td>2020-02-10 19:42:02Z</td><td>CREDIT</td></tr><tr><td>122</td><td>12</td><td>5601</td><td>2020-02-10 19:42:02Z</td><td>CASH</td></tr><tr><td>123</td><td>12</td><td>8509</td><td>2020-02-10 19:42:03Z</td><td>CASH</td></tr><tr><td>124</td><td>12</td><td>8404</td><td>2020-02-10 19:42:03Z</td><td>CREDIT</td></tr><tr><td>125</td><td>12</td><td>7687</td><td>2020-02-10 19:42:03Z</td><td>CASH</td></tr><tr><td>126</td><td>12</td><td>4755</td><td>2020-02-10 19:42:03Z</td><td>CASH</td></tr><tr><td>127</td><td>12</td><td>2791</td><td>2020-02-10 19:42:03Z</td><td>CASH</td></tr><tr><td>128</td><td>12</td><td>2424</td><td>2020-02-10 19:42:03Z</td><td>CREDIT</td></tr><tr><td>129</td><td>12</td><td>6246</td><td>2020-02-10 19:42:03Z</td><td>CREDIT</td></tr><tr><td>130</td><td>13</td><td>5502</td><td>2020-02-10 19:42:03Z</td><td>CREDIT</td></tr><tr><td>131</td><td>13</td><td>4885</td><td>2020-02-10 19:42:03Z</td><td>CASH</td></tr><tr><td>132</td><td>13</td><td>2492</td><td>2020-02-10 19:42:03Z</td><td>CREDIT</td></tr><tr><td>133</td><td>13</td><td>2956</td><td>2020-02-10 19:42:03Z</td><td>CREDIT</td></tr><tr><td>134</td><td>13</td><td>3591</td><td>2020-02-10 19:42:03Z</td><td>CASH</td></tr><tr><td>135</td><td>13</td><td>3046</td><td>2020-02-10 19:42:03Z</td><td>CREDIT</td></tr><tr><td>136</td><td>13</td><td>7922</td><td>2020-02-10 19:42:03Z</td><td>CREDIT</td></tr><tr><td>137</td><td>13</td><td>7024</td><td>2020-02-10 19:42:03Z</td><td>CREDIT</td></tr><tr><td>138</td><td>13</td><td>1073</td><td>2020-02-10 19:42:03Z</td><td>CASH</td></tr><tr><td>139</td><td>13</td><td>7496</td><td>2020-02-10 19:42:03Z</td><td>CREDIT</td></tr><tr><td>140</td><td>14</td><td>9903</td><td>2020-02-10 19:42:03Z</td><td>CASH</td></tr><tr><td>141</td><td>14</td><td>3138</td><td>2020-02-10 19:42:03Z</td><td>CREDIT</td></tr><tr><td>142</td><td>14</td><td>9996</td><td>2020-02-10 19:42:03Z</td><td>CREDIT</td></tr><tr><td>143</td><td>14</td><td>4930</td><td>2020-02-10 19:42:03Z</td><td>CREDIT</td></tr><tr><td>144</td><td>14</td><td>3968</td><td>2020-02-10 19:42:03Z</td><td>CREDIT</td></tr><tr><td>145</td><td>14</td><td>7594</td><td>2020-02-10 19:42:03Z</td><td>CREDIT</td></tr><tr><td>146</td><td>14</td><td>9634</td><td>2020-02-10 19:42:03Z</td><td>CREDIT</td></tr><tr><td>147</td><td>14</td><td>8879</td><td>2020-02-10 19:42:03Z</td><td>CASH</td></tr><tr><td>148</td><td>14</td><td>2066</td><td>2020-02-10 19:42:03Z</td><td>CREDIT</td></tr><tr><td>149</td><td>14</td><td>2179</td><td>2020-02-10 19:42:03Z</td><td>CASH</td></tr><tr><td>150</td><td>15</td><td>9834</td><td>2020-02-10 19:42:03Z</td><td>CREDIT</td></tr><tr><td>151</td><td>15</td><td>7230</td><td>2020-02-10 19:42:03Z</td><td>CREDIT</td></tr><tr><td>152</td><td>15</td><td>2597</td><td>2020-02-10 19:42:04Z</td><td>CASH</td></tr><tr><td>153</td><td>15</td><td>8251</td><td>2020-02-10 19:42:04Z</td><td>CASH</td></tr><tr><td>154</td><td>15</td><td>4269</td><td>2020-02-10 19:42:04Z</td><td>CASH</td></tr><tr><td>155</td><td>15</td><td>9703</td><td>2020-02-10 19:42:04Z</td><td>CASH</td></tr><tr><td>156</td><td>15</td><td>7642</td><td>2020-02-10 19:42:04Z</td><td>CREDIT</td></tr><tr><td>157</td><td>15</td><td>1087</td><td>2020-02-10 19:42:04Z</td><td>CASH</td></tr><tr><td>158</td><td>15</td><td>2394</td><td>2020-02-10 19:42:04Z</td><td>CREDIT</td></tr><tr><td>159</td><td>15</td><td>990</td><td>2020-02-10 19:42:04Z</td><td>CREDIT</td></tr><tr><td>160</td><td>16</td><td>6478</td><td>2020-02-10 19:42:04Z</td><td>CREDIT</td></tr><tr><td>161</td><td>16</td><td>7378</td><td>2020-02-10 19:42:04Z</td><td>CREDIT</td></tr><tr><td>162</td><td>16</td><td>4628</td><td>2020-02-10 19:42:04Z</td><td>CREDIT</td></tr><tr><td>163</td><td>16</td><td>3510</td><td>2020-02-10 19:42:04Z</td><td>CREDIT</td></tr><tr><td>164</td><td>16</td><td>3166</td><td>2020-02-10 19:42:04Z</td><td>CREDIT</td></tr><tr><td>165</td><td>16</td><td>7261</td><td>2020-02-10 19:42:04Z</td><td>CASH</td></tr><tr><td>166</td><td>16</td><td>523</td><td>2020-02-10 19:42:04Z</td><td>CASH</td></tr><tr><td>167</td><td>16</td><td>6109</td><td>2020-02-10 19:42:04Z</td><td>CASH</td></tr><tr><td>168</td><td>16</td><td>6613</td><td>2020-02-10 19:42:04Z</td><td>CASH</td></tr><tr><td>169</td><td>16</td><td>6387</td><td>2020-02-10 19:42:04Z</td><td>CASH</td></tr><tr><td>170</td><td>17</td><td>6780</td><td>2020-02-10 19:42:04Z</td><td>CREDIT</td></tr><tr><td>171</td><td>17</td><td>1457</td><td>2020-02-10 19:42:04Z</td><td>CASH</td></tr><tr><td>172</td><td>17</td><td>158</td><td>2020-02-10 19:42:04Z</td><td>CREDIT</td></tr><tr><td>173</td><td>17</td><td>7208</td><td>2020-02-10 19:42:04Z</td><td>CREDIT</td></tr><tr><td>174</td><td>17</td><td>8712</td><td>2020-02-10 19:42:04Z</td><td>CREDIT</td></tr><tr><td>175</td><td>17</td><td>7985</td><td>2020-02-10 19:42:04Z</td><td>CASH</td></tr><tr><td>176</td><td>17</td><td>6787</td><td>2020-02-10 19:42:04Z</td><td>CASH</td></tr><tr><td>177</td><td>17</td><td>671</td><td>2020-02-10 19:42:04Z</td><td>CASH</td></tr><tr><td>178</td><td>17</td><td>4542</td><td>2020-02-10 19:42:04Z</td><td>CREDIT</td></tr><tr><td>179</td><td>17</td><td>811</td><td>2020-02-10 19:42:04Z</td><td>CASH</td></tr><tr><td>180</td><td>18</td><td>8052</td><td>2020-02-10 19:42:05Z</td><td>CREDIT</td></tr><tr><td>181</td><td>18</td><td>5876</td><td>2020-02-10 19:42:05Z</td><td>CREDIT</td></tr><tr><td>182</td><td>18</td><td>726</td><td>2020-02-10 19:42:05Z</td><td>CREDIT</td></tr><tr><td>183</td><td>18</td><td>245</td><td>2020-02-10 19:42:05Z</td><td>CASH</td></tr><tr><td>184</td><td>18</td><td>6411</td><td>2020-02-10 19:42:05Z</td><td>CASH</td></tr><tr><td>185</td><td>18</td><td>8271</td><td>2020-02-10 19:42:05Z</td><td>CASH</td></tr><tr><td>186</td><td>18</td><td>2288</td><td>2020-02-10 19:42:05Z</td><td>CREDIT</td></tr><tr><td>187</td><td>18</td><td>4240</td><td>2020-02-10 19:42:05Z</td><td>CREDIT</td></tr><tr><td>188</td><td>18</td><td>8686</td><td>2020-02-10 19:42:05Z</td><td>CREDIT</td></tr><tr><td>189</td><td>18</td><td>3887</td><td>2020-02-10 19:42:05Z</td><td>CASH</td></tr><tr><td>190</td><td>19</td><td>5404</td><td>2020-02-10 19:42:05Z</td><td>CREDIT</td></tr><tr><td>191</td><td>19</td><td>6836</td><td>2020-02-10 19:42:05Z</td><td>CREDIT</td></tr><tr><td>192</td><td>19</td><td>4631</td><td>2020-02-10 19:42:05Z</td><td>CASH</td></tr><tr><td>193</td><td>19</td><td>84</td><td>2020-02-10 19:42:05Z</td><td>CREDIT</td></tr><tr><td>194</td><td>19</td><td>1019</td><td>2020-02-10 19:42:05Z</td><td>CASH</td></tr><tr><td>195</td><td>19</td><td>2526</td><td>2020-02-10 19:42:05Z</td><td>CREDIT</td></tr><tr><td>196</td><td>19</td><td>8510</td><td>2020-02-10 19:42:05Z</td><td>CREDIT</td></tr><tr><td>197</td><td>19</td><td>6487</td><td>2020-02-10 19:42:05Z</td><td>CASH</td></tr><tr><td>198</td><td>19</td><td>1764</td><td>2020-02-10 19:42:05Z</td><td>CREDIT</td></tr><tr><td>199</td><td>19</td><td>6707</td><td>2020-02-10 19:42:05Z</td><td>CASH</td></tr></tbody></table>"
      ]
     },
     "metadata": {},
     "output_type": "display_data"
    }
   ],
   "source": [
    "// Arbitrarily post event hubs messages with a certain amount\n",
    "\n",
    "List<dynamic> outputList = new List<dynamic>();\n",
    "Random rng = new Random();\n",
    "for( int i = 0; i < 20; i++) \n",
    "{\n",
    "    for(int j = 0; j < 10; j++) \n",
    "    {\n",
    "        dynamic entity = new ExpandoObject();\n",
    "        entity.CustomerId = i;\n",
    "        entity.PurchaseAmount = rng.Next(1, 10000);\n",
    "        entity.PurchaseTime = DateTime.Now;\n",
    "        entity.TenderType = entity.PurchaseAmount % 2 == 1 ? \"CASH\" : \"CREDIT\";\n",
    "\n",
    "        var jsonMessage = JsonConvert.SerializeObject(entity);\n",
    "        var encodedMessage = Encoding.UTF8.GetBytes(jsonMessage);\n",
    "        var eventData = new EventData(encodedMessage);\n",
    "        eventData.Properties.Add(\"Test\", \"Test string to see if properties even exist here\");\n",
    "        outputList.Add(entity);\n",
    "        await eventHubClient.SendAsync(eventData);\n",
    "    }\n",
    "}\n",
    "\n",
    "// We select the properties so we get a pretty table\n",
    "display(outputList.Select(output => new {output.CustomerId, output.PurchaseAmount, output.PurchaseTime, output.TenderType}));"
   ]
  },
  {
   "cell_type": "code",
   "execution_count": null,
   "metadata": {},
   "outputs": [],
   "source": []
  }
 ],
 "metadata": {
  "kernelspec": {
   "display_name": ".NET (C#)",
   "language": "C#",
   "name": ".net-csharp"
  },
  "language_info": {
   "file_extension": ".cs",
   "mimetype": "text/x-csharp",
   "name": "C#",
   "pygments_lexer": "csharp",
   "version": "8.0"
  }
 },
 "nbformat": 4,
 "nbformat_minor": 4
}
