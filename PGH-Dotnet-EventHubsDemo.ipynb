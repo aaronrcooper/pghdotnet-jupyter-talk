{
 "cells": [
  {
   "cell_type": "code",
   "execution_count": null,
   "metadata": {},
   "outputs": [],
   "source": [
    "// Package references and using statements\n",
    "#r \"nuget:Microsoft.Azure.EventHubs, 4.1.0\"\n",
    "#r \"nuget:Newtonsoft.Json, 12.0.3\"\n",
    "#r \"nuget:Microsoft.Azure.EventHubs.Processor, 4.1.0\"\n",
    "using System;\n",
    "using System.Threading;\n",
    "using Microsoft.Azure.EventHubs;\n",
    "using System.Dynamic;\n",
    "using System.Text;\n",
    "using Newtonsoft.Json;"
   ]
  },
  {
   "cell_type": "code",
   "execution_count": null,
   "metadata": {},
   "outputs": [],
   "source": [
    "// Set up EventHubs client\n",
    "\n",
    "EventHubClient eventHubClient;\n",
    "var eventHubConnectionString = \"Endpoint=sb://testsuffix-ns.servicebus.windows.net/;SharedAccessKeyName=RootManageSharedAccessKey;SharedAccessKey=2ZEATu8J4i5KZk1amnvaNemflRg8TNhJJYqk+qXpCdQ=\";\n",
    "var eventHubName = \"test\";\n",
    "var connectionStringBuilder = new EventHubsConnectionStringBuilder(eventHubConnectionString) \n",
    "{\n",
    "    EntityPath = eventHubName\n",
    "};\n",
    "\n",
    "eventHubClient = EventHubClient.CreateFromConnectionString(connectionStringBuilder.ToString());"
   ]
  },
  {
   "cell_type": "code",
   "execution_count": null,
   "metadata": {},
   "outputs": [],
   "source": [
    "// Arbitrarily post event hubs messages with a certain amount\n",
    "\n",
    "List<dynamic> outputList = new List<dynamic>();\n",
    "Random rng = new Random();\n",
    "for( int i = 0; i < 20; i++) \n",
    "{\n",
    "    for(int j = 0; j < 10; j++) \n",
    "    {\n",
    "        dynamic entity = new ExpandoObject();\n",
    "        entity.CustomerId = i;\n",
    "        entity.PurchaseAmount = rng.Next(1, 10000);\n",
    "        entity.PurchaseTime = DateTime.Now;\n",
    "        entity.TenderType = entity.PurchaseAmount % 2 == 1 ? \"CASH\" : \"CREDIT\";\n",
    "\n",
    "        var jsonMessage = JsonConvert.SerializeObject(entity);\n",
    "        var encodedMessage = Encoding.UTF8.GetBytes(jsonMessage);\n",
    "        var eventData = new EventData(encodedMessage);\n",
    "        eventData.Properties.Add(\"Test\", \"Test string to see if properties even exist here\");\n",
    "        outputList.Add(entity);\n",
    "        await eventHubClient.SendAsync(eventData);\n",
    "    }\n",
    "}\n",
    "\n",
    "// We select the properties so we get a pretty table\n",
    "display(outputList.Select(output => new {output.CustomerId, output.PurchaseAmount, output.PurchaseTime, output.TenderType}));"
   ]
  },
  {
   "cell_type": "code",
   "execution_count": null,
   "metadata": {},
   "outputs": [],
   "source": []
  }
 ],
 "metadata": {
  "kernelspec": {
   "display_name": ".NET (C#)",
   "language": "C#",
   "name": ".net-csharp"
  },
  "language_info": {
   "file_extension": ".cs",
   "mimetype": "text/x-csharp",
   "name": "C#",
   "pygments_lexer": "csharp",
   "version": "8.0"
  }
 },
 "nbformat": 4,
 "nbformat_minor": 4
}
